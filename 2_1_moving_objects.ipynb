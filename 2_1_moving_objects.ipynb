{
  "cells": [
    {
      "cell_type": "markdown",
      "metadata": {
        "colab_type": "text",
        "id": "view-in-github"
      },
      "source": [
        "<a href=\"https://colab.research.google.com/github/Koftarik/Data_Processing_and_Machine_Learning/blob/main/2_1_moving_objects.ipynb\" target=\"_parent\"><img src=\"https://colab.research.google.com/assets/colab-badge.svg\" alt=\"Open In Colab\"/></a>"
      ]
    },
    {
      "cell_type": "markdown",
      "metadata": {
        "id": "_7nWy9qNIwfN"
      },
      "source": [
        "Необходимо разработать программу, детектирующую движение в видеопотоке. Требуется получить доступ к видеопотоку и получать очередные кадры из него. Необходимо получить зоны движения в видеопотоке и корректно определить тип движения в потоке. Написанная работоспособная программа должна обрабатывать не менее двух кадров в секунду.\n"
      ]
    },
    {
      "cell_type": "code",
      "execution_count": null,
      "metadata": {
        "id": "2beFxVcWc2K1"
      },
      "outputs": [],
      "source": [
        "\n",
        "import numpy as np\n",
        "import cv2\n",
        "from matplotlib import pyplot as plt"
      ]
    },
    {
      "cell_type": "code",
      "execution_count": null,
      "metadata": {
        "colab": {
          "base_uri": "https://localhost:8080/"
        },
        "id": "1MmqN7KGhjlk",
        "outputId": "c3bba801-2fb0-4ffd-95af-159a105f70b4"
      },
      "outputs": [
        {
          "name": "stdout",
          "output_type": "stream",
          "text": [
            "48.5\n",
            "48.0\n",
            "69.0\n",
            "60.0\n",
            "49.0\n",
            "684.0\n",
            "36.0\n",
            "55.0\n",
            "48.5\n",
            "56.0\n",
            "2024.0\n",
            "187.5\n",
            "152.5\n",
            "134.5\n",
            "75.0\n",
            "2682.5\n",
            "1594.5\n",
            "62.5\n",
            "49.0\n",
            "42.0\n",
            "36.0\n",
            "48.5\n",
            "44858.5\n",
            "11.5\n",
            "7.0\n",
            "2.0\n",
            "2.0\n",
            "2.0\n",
            "2.0\n",
            "2.0\n",
            "2110.5\n",
            "2.0\n",
            "5.5\n",
            "31.5\n",
            "27.0\n",
            "2.0\n",
            "42.0\n",
            "48.0\n"
          ]
        }
      ],
      "source": [
        "cap = cv2.VideoCapture(\"video.mp4\"); #вывод кадров из видео файла\n",
        "#cap = cv2.VideoCapture(0); # видео поток с веб камеры\n",
        "\n",
        "cap.set(3,1280) # установка размера окна\n",
        "cap.set(4,700)\n",
        "\n",
        "ret, frame1 = cap.read()\n",
        "ret, frame2 = cap.read()\n",
        "\n",
        "output_video_path = 'output.avi'\n",
        "output_video_res = (1280, 720)\n",
        "fourcc = cv2.VideoWriter_fourcc(*'XVID')\n",
        "output_movie = cv2.VideoWriter(output_video_path, fourcc, 30.0, output_video_res)\n",
        "\n",
        "while cap.isOpened(): # метод isOpened() выводит статус видеопотока\n",
        "  if (frame1 is None) or (frame2 is None):\n",
        "    break\n",
        "  diff = cv2.absdiff(frame1, frame2) # нахождение разницы двух кадров, которая проявляется лишь при изменении одного из них, т.е. с этого момента наша программа реагирует на любое движение.\n",
        "\n",
        "  gray = cv2.cvtColor(diff, cv2.COLOR_BGR2GRAY) # перевод кадров в черно-белую градацию\n",
        "\n",
        "  blur = cv2.GaussianBlur(gray, (5, 5), 0) # фильтрация лишних контуров\n",
        "\n",
        "  _, thresh = cv2.threshold(blur, 20, 255, cv2.THRESH_BINARY) # метод для выделения кромки объекта белым цветом\n",
        "\n",
        "  dilated = cv2.dilate(thresh, None, iterations = 3) # данный метод противоположен методу erosion(), т.е. эрозии объекта, и расширяет выделенную на предыдущем этапе область\n",
        "\n",
        "\n",
        "  сontours, _ = cv2.findContours(dilated, cv2.RETR_TREE, cv2.CHAIN_APPROX_SIMPLE) # нахождение массива контурных точек\n",
        "\n",
        "\n",
        "  for contour in сontours:\n",
        "    (x, y, w, h) = cv2.boundingRect(contour) # преобразование массива из предыдущего этапа в кортеж из четырех координат\n",
        "\n",
        "    # метод contourArea() по заданным contour точкам, здесь кортежу, вычисляет площадь зафиксированного объекта в каждый момент времени, это можно проверить\n",
        "    print(cv2.contourArea(contour))\n",
        "\n",
        "    if cv2.contourArea(contour) < 700: # условие при котором площадь выделенного объекта меньше 700 px\n",
        "      continue\n",
        "    cv2.rectangle(frame1, (x, y), (x+w, y+h), (0, 255, 0), 2) # получение прямоугольника из точек кортежа\n",
        "    cv2.putText(frame1, \"Status: {}\".format(\"Dvigenie\"), (10, 20), cv2.FONT_HERSHEY_SIMPLEX, 1, (0, 0, 255), 3, cv2.LINE_AA) # вставляем текст\n",
        "\n",
        "  #cv2.drawContours(frame1, сontours, -1, (0, 255, 0), 2) также можно было просто нарисовать контур объекта\n",
        "\n",
        " # cv2.imshow(\"frame1\", frame1)\n",
        "  frame1 = frame2  #\n",
        "  ret, frame2 = cap.read() #\n",
        "\n",
        "  #if cv2.waitKey(40) == 27:\n",
        "  #  break\n",
        "\n",
        "\n",
        "\n",
        "\n",
        "cap.release()\n",
        "cv2.destroyAllWindows()"
      ]
    },
    {
      "cell_type": "code",
      "execution_count": null,
      "metadata": {
        "id": "PNrDq3omo2Cb"
      },
      "outputs": [],
      "source": [
        "import cv2\n",
        "\n",
        "from dotenv import load_dotenv\n",
        "from vidstab import VidStab\n",
        "\n",
        "if __name__ == \"__main__\":\n",
        "    import os\n",
        "    import cv2\n",
        "    from vidstab import VidStab, layer_overlay, download_ostrich_video\n",
        "\n",
        "    # Download test video to stabilize\n",
        "    # if not os.path.isfile(\"ostrich.mp4\"):\n",
        "    #     download_ostrich_video(\"ostrich.mp4\")\n",
        "\n",
        "    # инициализируем трекер объектов, стабилизатор и захват потока\n",
        "    object_tracker = cv2.TrackerCSRT_create()\n",
        "    stabilizer = VidStab()\n",
        "    vidcap = cv2.VideoCapture(0)\n",
        "\n",
        "    # инициализируем форму для захвата объекта\n",
        "    object_bounding_box = None\n",
        "\n",
        "    while True:\n",
        "        # читаем фрейм\n",
        "        grabbed_frame, frame = vidcap.read()\n",
        "\n",
        "        # передаем фрейм в стабилизатор\n",
        "        stabilized_frame = stabilizer.stabilize_frame(input_frame=frame, border_size=50, smoothing_window=100)\n",
        "\n",
        "        if stabilized_frame is None:\n",
        "            break\n",
        "\n",
        "        # рисуем прямоугольник на выделенном объекте, если начали трекинг\n",
        "        if object_bounding_box is not None:\n",
        "            success, object_bounding_box = object_tracker.update(stabilized_frame)\n",
        "\n",
        "            if success:\n",
        "                (x, y, w, h) = [int(v) for v in object_bounding_box]\n",
        "                cv2.rectangle(stabilized_frame, (x, y), (x + w, y + h),\n",
        "                              (0, 255, 0), 2)\n",
        "\n",
        "        # выводим фрейм\n",
        "        cv2.imshow('Frame', stabilized_frame)\n",
        "\n",
        "        key = cv2.waitKey(5)\n",
        "\n",
        "        # захватываем фрейм\n",
        "        if stabilized_frame.sum() > 0 and object_bounding_box is None:\n",
        "            object_bounding_box = cv2.selectROI(\"Frame\",\n",
        "                                                stabilized_frame,\n",
        "                                                fromCenter=False,\n",
        "                                                showCrosshair=True)\n",
        "            object_tracker.init(stabilized_frame, object_bounding_box)\n",
        "        elif key == 27:\n",
        "            break\n",
        "\n",
        "    vidcap.release()\n",
        "    cv2.destroyAllWindows()"
      ]
    }
  ],
  "metadata": {
    "colab": {
      "authorship_tag": "ABX9TyM8SAfPuyr8Tx/g+3ZYw6ur",
      "include_colab_link": true,
      "provenance": []
    },
    "kernelspec": {
      "display_name": "Python 3",
      "name": "python3"
    },
    "language_info": {
      "name": "python"
    }
  },
  "nbformat": 4,
  "nbformat_minor": 0
}
